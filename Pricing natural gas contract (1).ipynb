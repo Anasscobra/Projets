{
 "cells": [
  {
   "cell_type": "code",
   "execution_count": 1,
   "id": "2c78f107-88f0-4e5f-abb7-6a0d10c76d9e",
   "metadata": {},
   "outputs": [],
   "source": [
    "import pandas as pd"
   ]
  },
  {
   "cell_type": "code",
   "execution_count": 2,
   "id": "8d54fcc8-033b-475d-8eac-7e5be14bb377",
   "metadata": {},
   "outputs": [],
   "source": [
    "def pricing_gas_contract(injection_dates, withdrawal_dates, purchase_prices, sell_prices, \n",
    "                       injection_rates, withdrawal_rates, max_storage_volume, storage_costs):\n",
    "    \n",
    "    # We sort dates in order to easily calculate injection and withdrawal prices\n",
    "    injection_dates = pd.to_datetime(injection_dates, format='%m/%d/%y')\n",
    "    withdrawal_dates = pd.to_datetime(withdrawal_dates, format='%m/%d/%y')\n",
    "\n",
    "    purchase_cost = sum([rate * price for rate, price in zip(injection_rates, purchase_prices)])\n",
    "    \n",
    "    sell_revenue = sum([rate * price for rate, price in zip(withdrawal_rates, sell_prices)])\n",
    "\n",
    "    # Storage costs w.r.t withdrawal dates and injection dates \n",
    "    storage_cost = 0\n",
    "    cumulative_volume = 0  \n",
    "    \n",
    "    for i, injection_date in enumerate(injection_dates):\n",
    "        gas_injected = injection_rates[i]\n",
    "        corresponding_withdrawal_date = withdrawal_dates[i]\n",
    "\n",
    "       \n",
    "        storage_days = (corresponding_withdrawal_date - injection_date).days \n",
    "        # We verify that the gas can be injected without risking a volume exceed\n",
    "        \n",
    "        if cumulative_volume + gas_injected > max_storage_volume:\n",
    "            raise ValueError(\"Cumulative gas injected exceeds maximum storage volume\")\n",
    "\n",
    "        \n",
    "        storage_cost += gas_injected * storage_days * storage_costs # We calculate the storage cost \n",
    "\n",
    "       \n",
    "        cumulative_volume += gas_injected  # We update the gas volume on storage\n",
    "\n",
    "        \n",
    "        cumulative_volume -= withdrawal_rates[i] # We update the gas volume on storage\n",
    "\n",
    "   \n",
    "    contract_value = sell_revenue - purchase_cost - storage_cost  # We calculate the contract value ( added value for buyer)\n",
    "\n",
    "    return contract_value\n",
    "\n"
   ]
  },
  {
   "cell_type": "markdown",
   "id": "1fef4d13-f444-400b-8dc2-aaa8dbd272f8",
   "metadata": {},
   "source": [
    "From a fundamental analysis and ecocomical point of view, a good strategy to follow on winter season is to inject a great amount of gas in prewinter period and then slow down the injection rates in favor of a big withdrawal. The idea is to take advantage of gas price increase in order to make profit. We will use this reasoning to define injection and withdrawal rates with respect to dates."
   ]
  },
  {
   "cell_type": "code",
   "execution_count": 4,
   "id": "82781230-0404-491e-8da3-4ca0d8c98423",
   "metadata": {},
   "outputs": [],
   "source": [
    "# Let's test our code\n",
    "# We import historical price data and consider the last months of 2020 and first months of 2021 (mostly pre winter and winter season)\n",
    "# The injection and withdrawal rates we take into consideration are not realistic. In fact a 10^(6) factor should be applied on a large scale\n",
    "\n",
    "data_gas_prices=pd.read_csv('Nat_Gas.csv')\n",
    "injection_dates= data_gas_prices['Dates'].iloc[[1,3,5,7]].to_list()\n",
    "withdrawal_dates= data_gas_prices['Dates'].iloc[[2,4,6,8]].to_list()\n",
    "purchase_prices = data_gas_prices['Prices'].iloc[[1,3,5,7]].to_list()\n",
    "sell_prices = data_gas_prices['Prices'].iloc[[2,4,6,8]].to_list()\n",
    "injection_rates=[200, 25, 25, 50 ] # Here we supposed that injection rates start big because winter is coming and decrease gradually because the demand\n",
    "# starts to get the upperhand on the offer\n",
    "\n",
    "withdrawal_rates=[25, 125, 125, 25] # Here we supposed that withdrawals rates start small but increase gradually because the demand start to get the upperhand\n",
    "\n",
    "max_storage_volume=300\n",
    "\n",
    "storage_costs= 0.001 # storage cost per unit per day ( should be much lower than the market price of natural gas unit) \n"
   ]
  },
  {
   "cell_type": "code",
   "execution_count": 5,
   "id": "f9d358f2-d688-4f5d-acab-83a39570d33d",
   "metadata": {},
   "outputs": [],
   "source": [
    "# Let's calculate the contract value for the scenario  we defined\n",
    "contract_value=pricing_gas_contract(injection_dates, withdrawal_dates, purchase_prices, sell_prices, injection_rates, withdrawal_rates, max_storage_volume, storage_costs)"
   ]
  },
  {
   "cell_type": "code",
   "execution_count": 6,
   "id": "72ad9f79-6b54-4606-ada1-3726114ec315",
   "metadata": {},
   "outputs": [
    {
     "name": "stdout",
     "output_type": "stream",
     "text": [
      "81.35\n"
     ]
    }
   ],
   "source": [
    "print(contract_value)"
   ]
  }
 ],
 "metadata": {
  "kernelspec": {
   "display_name": "Python 3 (ipykernel)",
   "language": "python",
   "name": "python3"
  },
  "language_info": {
   "codemirror_mode": {
    "name": "ipython",
    "version": 3
   },
   "file_extension": ".py",
   "mimetype": "text/x-python",
   "name": "python",
   "nbconvert_exporter": "python",
   "pygments_lexer": "ipython3",
   "version": "3.12.4"
  }
 },
 "nbformat": 4,
 "nbformat_minor": 5
}
