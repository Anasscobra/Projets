{
 "cells": [
  {
   "cell_type": "markdown",
   "id": "b84baf9b-ccfe-46f3-96c3-9d5eedf8236c",
   "metadata": {},
   "source": [
    "## Importing biblio "
   ]
  },
  {
   "cell_type": "code",
   "execution_count": 1,
   "id": "e4856633-3c1e-48d0-b4f1-6fa8fe5b8f39",
   "metadata": {},
   "outputs": [],
   "source": [
    "import numpy as np\n",
    "import pandas as pd\n",
    "import warnings\n",
    "import matplotlib.pyplot as plt\n",
    "from catboost import CatBoostRegressor\n",
    "from xgboost import XGBRegressor\n",
    "from sklearn.ensemble import StackingRegressor\n",
    "from sklearn.linear_model import LinearRegression\n",
    "from lightgbm import LGBMRegressor\n",
    "from sklearn.metrics import mean_squared_error\n",
    "from scipy.stats import normaltest, norm, rankdata\n",
    "from sklearn.decomposition import PCA\n",
    "from sklearn.model_selection import GridSearchCV\n",
    "from sklearn.feature_selection import mutual_info_regression\n",
    "from sklearn.preprocessing import StandardScaler\n",
    "warnings.filterwarnings(\"ignore\")"
   ]
  },
  {
   "cell_type": "markdown",
   "id": "a62ffd75-acd7-4557-89cd-ffd2c3dd9fa5",
   "metadata": {},
   "source": [
    "## Data importation"
   ]
  },
  {
   "cell_type": "code",
   "execution_count": 3,
   "id": "b7efe6fd-89a7-4f36-9c3c-28fd2320cb05",
   "metadata": {},
   "outputs": [],
   "source": [
    "train_data=pd.read_csv('train.csv')\n",
    "test_data=pd.read_csv('test.csv')"
   ]
  },
  {
   "cell_type": "code",
   "execution_count": 4,
   "id": "72340dfb-1370-4335-a4ee-a56d15ec3341",
   "metadata": {},
   "outputs": [],
   "source": [
    "train_data=train_data.drop(['language','author'],axis=1)\n",
    "test_data=test_data.drop(['language','author'],axis=1)"
   ]
  },
  {
   "cell_type": "markdown",
   "id": "54fa3bcd-f706-4da4-b6f5-4d9482d15d88",
   "metadata": {},
   "source": [
    "## Cleaning "
   ]
  },
  {
   "cell_type": "code",
   "execution_count": 11,
   "id": "499e2d96-2e03-4551-87d2-63b0540e32dc",
   "metadata": {},
   "outputs": [],
   "source": [
    "## data is my dataset either train validation or test\n",
    "## threshold is the allowed amount of null values\n",
    "def clean_data(data,threshold):\n",
    "    col_to_be_removed=[]\n",
    "    row_to_be_removed=[]\n",
    "    n=data.shape[0]\n",
    "    columns=data.columns\n",
    "    for column in columns :\n",
    "        if data[column].isnull().sum()/n > threshold:\n",
    "            col_to_be_removed.append(column)\n",
    "        else:\n",
    "            row_to_be_removed.append(column)\n",
    "    data_cleaned=data.drop(col_to_be_removed,axis=1)\n",
    "    data_cleaned.dropna(subset=row_to_be_removed)\n",
    "    return data_cleaned"
   ]
  },
  {
   "cell_type": "code",
   "execution_count": 13,
   "id": "1e835b1a-c430-4091-8b8b-cefd5a67f6be",
   "metadata": {},
   "outputs": [],
   "source": [
    "# Transforming boolean variables to integers for interpretability\n",
    "def bool_transform(data):\n",
    "    data_cleaned=clean_data(data,threshold=0.2)\n",
    "    boolean_columns = data_cleaned.select_dtypes(include='bool').columns\n",
    "    data_cleaned[boolean_columns] = data_cleaned[boolean_columns].astype(int)\n",
    "    return data_cleaned"
   ]
  },
  {
   "cell_type": "markdown",
   "id": "e93c36d0-423c-4f80-b29b-da5359fe1227",
   "metadata": {},
   "source": [
    "## Feature selection using mutual information"
   ]
  },
  {
   "cell_type": "code",
   "execution_count": 10,
   "id": "09912e91-2a9b-456d-a6ef-ab57755b2f79",
   "metadata": {},
   "outputs": [],
   "source": [
    "def select_features_by_mi_threshold(X, y):\n",
    "   \n",
    "    mi_scores = mutual_info_regression(X, y, random_state=42)\n",
    "    max_scores=np.max(mi_scores)\n",
    "    min_scores=np.min(mi_scores)\n",
    "    threshold=0.005*(max_scores-min_scores)+ min_scores\n",
    "    # Create a DataFrame of MI scores\n",
    "    mi_scores_df = pd.DataFrame({\n",
    "        'Feature': X.columns,\n",
    "        'Mutual Information': mi_scores\n",
    "    }).sort_values(by='Mutual Information', ascending=False).reset_index(drop=True)\n",
    "    # Filter features by threshold\n",
    "    selected_features = mi_scores_df[mi_scores_df['Mutual Information'] >= threshold]\n",
    "    selected_feature_names = selected_features['Feature'].tolist()\n",
    "    # Filter input data\n",
    "    X_selected = X[selected_feature_names]\n",
    "    return selected_feature_names, X_selected"
   ]
  },
  {
   "cell_type": "code",
   "execution_count": null,
   "id": "030f4a57-f1fa-4eaa-afaf-12d53cc7c067",
   "metadata": {},
   "outputs": [],
   "source": []
  },
  {
   "cell_type": "markdown",
   "id": "8f141342-ae9c-4ec1-99d8-bad0aa0e5b17",
   "metadata": {},
   "source": [
    "## Finetuning Xgboost"
   ]
  },
  {
   "cell_type": "code",
   "execution_count": 12,
   "id": "9d48f7d6-a1f7-41cd-8dc3-4ae29d10dc04",
   "metadata": {},
   "outputs": [],
   "source": [
    "def finetune_xgboost(train_input, train_output):\n",
    "    xgb = XGBRegressor(objective='reg:squarederror', random_state=42)\n",
    "    # Définition de la grille des hyperparamètres\n",
    "    param_grid = {\n",
    "        'max_depth': [4, 8, 10],\n",
    "        'n_estimators': [50, 100, 200],\n",
    "        'colsample_bytree': [0.4,0.6],\n",
    "    }\n",
    "    # Configuration du GridSearchCV\n",
    "    grid_search = GridSearchCV(\n",
    "        estimator=xgb,\n",
    "        param_grid=param_grid,\n",
    "        cv=3,  # 3-fold cross-validation\n",
    "        scoring='neg_mean_squared_error',\n",
    "        verbose=1,\n",
    "        n_jobs=-1 \n",
    "    )\n",
    "    # Exécution de la recherche\n",
    "    grid_search.fit(train_input, train_output)\n",
    "    best_params=grid_search.best_params_\n",
    "    best_model=grid_search.best_estimator_\n",
    "    return best_params, best_model"
   ]
  },
  {
   "cell_type": "markdown",
   "id": "85acb5a0-15d2-4495-9af9-80d809b18de1",
   "metadata": {},
   "source": [
    "## Finetune LGBM"
   ]
  },
  {
   "cell_type": "code",
   "execution_count": 14,
   "id": "653d6243-9e91-4089-87c1-86ac05001290",
   "metadata": {},
   "outputs": [],
   "source": [
    "## Finetuning LGBM\n",
    "\n",
    "def finetune_LGBM(train_input, train_output):\n",
    "    # Initialize LightGBM Regressor\n",
    "    lgbm = LGBMRegressor(random_state=42)\n",
    "\n",
    "    # Define the parameter grid for GridSearch\n",
    "    param_grid = {\n",
    "    'learning_rate': [0.01, 0.1],\n",
    "    'n_estimators': [100, 200,300],\n",
    "    'max_depth': [10,12],\n",
    "    'num_leaves': [20, 50],\n",
    "    'min_data_in_leaf': [10, 20],\n",
    "    'force_col_wise' : [True],\n",
    "    'colsample_bytree': [0.5],\n",
    "    }\n",
    "    # Wrap the model with GridSearchCV\n",
    "    grid_search = GridSearchCV(\n",
    "        estimator=lgbm,\n",
    "        param_grid=param_grid,\n",
    "        cv=3,  # 3-fold cross-validation\n",
    "        scoring='neg_mean_squared_error',  # Evaluation metric\n",
    "        verbose=1,\n",
    "        n_jobs=-1\n",
    "    )\n",
    "    # Perform the grid search\n",
    "    grid_search.fit(train_input, train_output)\n",
    "    best_params=grid_search.best_params_\n",
    "    best_model=grid_search.best_estimator_\n",
    "    return best_params, best_model"
   ]
  },
  {
   "cell_type": "code",
   "execution_count": null,
   "id": "682e42e1-024d-4b98-b1ff-6b44b225d8c9",
   "metadata": {},
   "outputs": [],
   "source": [
    "## Finetuni"
   ]
  },
  {
   "cell_type": "markdown",
   "id": "9f0e313f-bd72-49e6-b09d-ee301d529d0c",
   "metadata": {},
   "source": [
    "## Meta model construction"
   ]
  },
  {
   "cell_type": "code",
   "execution_count": 16,
   "id": "25972438-bc3c-4e1c-849a-e6fb1be26a2a",
   "metadata": {},
   "outputs": [],
   "source": [
    "def meta_model_and_predict(train_input, train_output, test_data):\n",
    "    best_par_xgb, best_xgb=finetune_xgboost(train_input, train_output)\n",
    "    opti_xgb=XGBRegressor().set_params(**best_par_xgb)\n",
    "    best_par_lgbm, best_lgbm=finetune_LGBM(train_input, train_output)\n",
    "    opti_lgbm= LGBMRegressor(**best_par_lgbm)\n",
    "    meta_mod= StackingRegressor(estimators=[('lgbm', opti_lgbm), ('xgb',opti_xgb)], final_estimator=LinearRegression(), cv=2)\n",
    "    meta_mod.fit(train_input, train_output)\n",
    "    predictions_test=meta_mod.predict(test_data)\n",
    "    predictions_test=np.maximum(predictions_test,0)\n",
    "    predictions_train=meta_mod.predict(train_input)\n",
    "    predictions_train=np.maximum(predictions_train,0)\n",
    "    rmse_train=np.sqrt(mean_squared_error(predictions_train, train_output))\n",
    "    return rmse_train, predictions_test"
   ]
  },
  {
   "cell_type": "markdown",
   "id": "a1dd2d00-02c6-4398-9ead-ea109d86456c",
   "metadata": {},
   "source": [
    "## Training and Testing "
   ]
  },
  {
   "cell_type": "code",
   "execution_count": 15,
   "id": "96fd7a9d-f08d-48e1-bc03-33692a8b7ecb",
   "metadata": {},
   "outputs": [],
   "source": [
    "## Cleaning data \n",
    "train_data_cleaned=bool_transform(train_data)\n",
    "test_data_cleaned=bool_transform(test_data)"
   ]
  },
  {
   "cell_type": "code",
   "execution_count": 17,
   "id": "c765881b-4529-4e0b-8e8a-1e166611f4b8",
   "metadata": {},
   "outputs": [],
   "source": [
    "## Separation  of inputs and outputs \n",
    "train_output=train_data_cleaned['engagement']\n",
    "train_inputs=train_data_cleaned.drop(columns=['engagement'])"
   ]
  },
  {
   "cell_type": "code",
   "execution_count": 20,
   "id": "e7d511fd-3625-42e3-81f2-38cc96fc2d78",
   "metadata": {},
   "outputs": [],
   "source": [
    "## Feature selection\n",
    "selected_feature_names, train_inputs_best=select_features_by_mi_threshold(train_inputs, train_output)\n",
    "test_data_best=test_data[selected_feature_names]"
   ]
  },
  {
   "cell_type": "code",
   "execution_count": 21,
   "id": "17695130-423f-446c-8257-c1cce36a1add",
   "metadata": {},
   "outputs": [
    {
     "name": "stdout",
     "output_type": "stream",
     "text": [
      "Fitting 3 folds for each of 18 candidates, totalling 54 fits\n",
      "Fitting 3 folds for each of 48 candidates, totalling 144 fits\n",
      "[LightGBM] [Warning] min_data_in_leaf is set=20, min_child_samples=20 will be ignored. Current value: min_data_in_leaf=20\n",
      "[LightGBM] [Warning] min_data_in_leaf is set=20, min_child_samples=20 will be ignored. Current value: min_data_in_leaf=20\n",
      "[LightGBM] [Info] Total Bins 201872\n",
      "[LightGBM] [Info] Number of data points in the train set: 4154, number of used features: 798\n",
      "[LightGBM] [Info] Start training from score 18726.554887\n",
      "[LightGBM] [Warning] min_data_in_leaf is set=20, min_child_samples=20 will be ignored. Current value: min_data_in_leaf=20\n",
      "[LightGBM] [Warning] min_data_in_leaf is set=20, min_child_samples=20 will be ignored. Current value: min_data_in_leaf=20\n",
      "[LightGBM] [Info] Total Bins 201872\n",
      "[LightGBM] [Info] Number of data points in the train set: 4154, number of used features: 798\n",
      "[LightGBM] [Info] Start training from score 18726.554887\n",
      "[LightGBM] [Warning] min_data_in_leaf is set=20, min_child_samples=20 will be ignored. Current value: min_data_in_leaf=20\n",
      "[LightGBM] [Warning] min_data_in_leaf is set=20, min_child_samples=20 will be ignored. Current value: min_data_in_leaf=20\n",
      "[LightGBM] [Info] Total Bins 201853\n",
      "[LightGBM] [Info] Number of data points in the train set: 2077, number of used features: 798\n",
      "[LightGBM] [Info] Start training from score 18871.163216\n",
      "[LightGBM] [Warning] No further splits with positive gain, best gain: -inf\n",
      "[LightGBM] [Warning] No further splits with positive gain, best gain: -inf\n",
      "[LightGBM] [Warning] No further splits with positive gain, best gain: -inf\n",
      "[LightGBM] [Warning] No further splits with positive gain, best gain: -inf\n",
      "[LightGBM] [Warning] No further splits with positive gain, best gain: -inf\n",
      "[LightGBM] [Warning] No further splits with positive gain, best gain: -inf\n",
      "[LightGBM] [Warning] No further splits with positive gain, best gain: -inf\n",
      "[LightGBM] [Warning] No further splits with positive gain, best gain: -inf\n",
      "[LightGBM] [Warning] No further splits with positive gain, best gain: -inf\n",
      "[LightGBM] [Warning] No further splits with positive gain, best gain: -inf\n",
      "[LightGBM] [Warning] No further splits with positive gain, best gain: -inf\n",
      "[LightGBM] [Warning] No further splits with positive gain, best gain: -inf\n",
      "[LightGBM] [Warning] No further splits with positive gain, best gain: -inf\n",
      "[LightGBM] [Warning] No further splits with positive gain, best gain: -inf\n",
      "[LightGBM] [Warning] No further splits with positive gain, best gain: -inf\n",
      "[LightGBM] [Warning] No further splits with positive gain, best gain: -inf\n",
      "[LightGBM] [Warning] No further splits with positive gain, best gain: -inf\n",
      "[LightGBM] [Warning] No further splits with positive gain, best gain: -inf\n",
      "[LightGBM] [Warning] No further splits with positive gain, best gain: -inf\n",
      "[LightGBM] [Warning] No further splits with positive gain, best gain: -inf\n",
      "[LightGBM] [Warning] No further splits with positive gain, best gain: -inf\n",
      "[LightGBM] [Warning] No further splits with positive gain, best gain: -inf\n",
      "[LightGBM] [Warning] No further splits with positive gain, best gain: -inf\n",
      "[LightGBM] [Warning] No further splits with positive gain, best gain: -inf\n",
      "[LightGBM] [Warning] No further splits with positive gain, best gain: -inf\n",
      "[LightGBM] [Warning] No further splits with positive gain, best gain: -inf\n",
      "[LightGBM] [Warning] No further splits with positive gain, best gain: -inf\n",
      "[LightGBM] [Warning] No further splits with positive gain, best gain: -inf\n",
      "[LightGBM] [Warning] No further splits with positive gain, best gain: -inf\n",
      "[LightGBM] [Warning] No further splits with positive gain, best gain: -inf\n",
      "[LightGBM] [Warning] No further splits with positive gain, best gain: -inf\n",
      "[LightGBM] [Warning] min_data_in_leaf is set=20, min_child_samples=20 will be ignored. Current value: min_data_in_leaf=20\n",
      "[LightGBM] [Warning] min_data_in_leaf is set=20, min_child_samples=20 will be ignored. Current value: min_data_in_leaf=20\n",
      "[LightGBM] [Warning] min_data_in_leaf is set=20, min_child_samples=20 will be ignored. Current value: min_data_in_leaf=20\n",
      "[LightGBM] [Info] Total Bins 201858\n",
      "[LightGBM] [Info] Number of data points in the train set: 2077, number of used features: 798\n",
      "[LightGBM] [Info] Start training from score 18581.946558\n",
      "[LightGBM] [Warning] No further splits with positive gain, best gain: -inf\n",
      "[LightGBM] [Warning] No further splits with positive gain, best gain: -inf\n",
      "[LightGBM] [Warning] No further splits with positive gain, best gain: -inf\n",
      "[LightGBM] [Warning] No further splits with positive gain, best gain: -inf\n",
      "[LightGBM] [Warning] min_data_in_leaf is set=20, min_child_samples=20 will be ignored. Current value: min_data_in_leaf=20\n",
      "[LightGBM] [Warning] min_data_in_leaf is set=20, min_child_samples=20 will be ignored. Current value: min_data_in_leaf=20\n",
      "[LightGBM] [Warning] min_data_in_leaf is set=20, min_child_samples=20 will be ignored. Current value: min_data_in_leaf=20\n"
     ]
    }
   ],
   "source": [
    "rmse_train, predictions_test=meta_model_and_predict(train_inputs_best, train_output, test_data_best)"
   ]
  },
  {
   "cell_type": "code",
   "execution_count": 22,
   "id": "19134627-59fa-4ffb-8305-32bdc571880c",
   "metadata": {},
   "outputs": [
    {
     "name": "stdout",
     "output_type": "stream",
     "text": [
      "34055.48163959116\n"
     ]
    }
   ],
   "source": [
    "print(rmse_train)"
   ]
  },
  {
   "cell_type": "code",
   "execution_count": 23,
   "id": "8acc7e01-b069-4bd3-848d-466e288f6da3",
   "metadata": {},
   "outputs": [
    {
     "name": "stdout",
     "output_type": "stream",
     "text": [
      "[23737.00789615  7127.10200932 18895.11114622 ...     0.\n",
      " 20371.28059234 36660.02590464]\n"
     ]
    }
   ],
   "source": [
    "print(predictions_test)"
   ]
  },
  {
   "cell_type": "code",
   "execution_count": 43,
   "id": "a6843d64-a972-407e-bf90-9221733d5d0e",
   "metadata": {},
   "outputs": [],
   "source": [
    "test_data.rename(columns={'Id':'id'}, inplace=True)\n",
    "test_data['engagement']=predictions_test\n",
    "submission=test_data[['id','engagement']]\n",
    "submission.to_csv('Thirtenth_pred.csv', index=False)"
   ]
  },
  {
   "cell_type": "code",
   "execution_count": 19,
   "id": "ed9e87ae-7bf6-41c8-9606-56b5daf20a30",
   "metadata": {},
   "outputs": [],
   "source": [
    "import pandas as pd\n",
    "submi_1=pd.read_csv('Twelvth_pred.csv')\n",
    "submi_2=pd.read_csv('Sixth_pred.csv')\n",
    "submi_3=pd.read_csv('Fifth_pred.csv')"
   ]
  },
  {
   "cell_type": "code",
   "execution_count": 21,
   "id": "6d27cc82-c0c4-422d-8eed-abca05dabc0e",
   "metadata": {},
   "outputs": [],
   "source": [
    "submission=(submi_1 + submi_2 +submi_3)/3"
   ]
  },
  {
   "cell_type": "code",
   "execution_count": 25,
   "id": "24e915aa-46c8-40e6-bb22-37de0ec67a1c",
   "metadata": {},
   "outputs": [
    {
     "name": "stdout",
     "output_type": "stream",
     "text": [
      "20223.31423596601\n",
      "719829432.2029196\n"
     ]
    }
   ],
   "source": [
    "print(np.mean(submission['engagement']))\n",
    "print(np.var(submission['engagement']))"
   ]
  },
  {
   "cell_type": "code",
   "execution_count": 43,
   "id": "0f875bfd-d904-405b-89b4-3a0bad904c36",
   "metadata": {},
   "outputs": [
    {
     "name": "stdout",
     "output_type": "stream",
     "text": [
      "18726.554886856044\n",
      "4124688669.8723745\n"
     ]
    }
   ],
   "source": [
    "print(np.mean(train_output))\n",
    "print(np.var(train_output))"
   ]
  },
  {
   "cell_type": "code",
   "execution_count": 31,
   "id": "9451245c-9aa4-41c7-860f-9a71af4afffc",
   "metadata": {},
   "outputs": [],
   "source": [
    "submission['engagement']=(submission['engagement']-1000)\n",
    "submission['engagement']=np.maximum(submission['engagement'],0)"
   ]
  },
  {
   "cell_type": "code",
   "execution_count": 33,
   "id": "37486f48-8cc4-4bc9-965a-ac027c1a4bba",
   "metadata": {},
   "outputs": [],
   "source": [
    "test_data.rename(columns={'Id':'id'}, inplace=True)\n",
    "test_data['engagement']=submission['engagement']\n",
    "submi=test_data[['id','engagement']]\n",
    "submi.to_csv('mi_pred.csv', index=False)"
   ]
  },
  {
   "cell_type": "code",
   "execution_count": null,
   "id": "a7cea7af-59c5-4860-ac90-b9401e00829c",
   "metadata": {},
   "outputs": [],
   "source": []
  }
 ],
 "metadata": {
  "kernelspec": {
   "display_name": "Python 3 (ipykernel)",
   "language": "python",
   "name": "python3"
  },
  "language_info": {
   "codemirror_mode": {
    "name": "ipython",
    "version": 3
   },
   "file_extension": ".py",
   "mimetype": "text/x-python",
   "name": "python",
   "nbconvert_exporter": "python",
   "pygments_lexer": "ipython3",
   "version": "3.12.4"
  }
 },
 "nbformat": 4,
 "nbformat_minor": 5
}
